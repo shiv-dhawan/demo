{
 "cells": [
  {
   "cell_type": "code",
   "execution_count": 1,
   "metadata": {},
   "outputs": [
    {
     "name": "stdout",
     "output_type": "stream",
     "text": [
      "hi\n"
     ]
    }
   ],
   "source": [
    "print(\"hi\")"
   ]
  },
  {
   "cell_type": "code",
   "execution_count": 10,
   "metadata": {},
   "outputs": [
    {
     "name": "stdout",
     "output_type": "stream",
     "text": [
      "this is the first notebook\n"
     ]
    },
    {
     "data": {
      "text/plain": [
       "'c:\\\\Users\\\\shiv\\\\Desktop\\\\demo\\\\demo'"
      ]
     },
     "execution_count": 10,
     "metadata": {},
     "output_type": "execute_result"
    }
   ],
   "source": [
    "import os\n",
    "print(\"this is the first notebook\")\n",
    "os.getcwd()"
   ]
  },
  {
   "cell_type": "code",
   "execution_count": 14,
   "metadata": {},
   "outputs": [
    {
     "data": {
      "text/html": [
       "<div>\n",
       "<style scoped>\n",
       "    .dataframe tbody tr th:only-of-type {\n",
       "        vertical-align: middle;\n",
       "    }\n",
       "\n",
       "    .dataframe tbody tr th {\n",
       "        vertical-align: top;\n",
       "    }\n",
       "\n",
       "    .dataframe thead th {\n",
       "        text-align: right;\n",
       "    }\n",
       "</style>\n",
       "<table border=\"1\" class=\"dataframe\">\n",
       "  <thead>\n",
       "    <tr style=\"text-align: right;\">\n",
       "      <th></th>\n",
       "      <th>0</th>\n",
       "    </tr>\n",
       "  </thead>\n",
       "  <tbody>\n",
       "    <tr>\n",
       "      <th>$help</th>\n",
       "      <td>https://aka.ms/terminal-documentation</td>\n",
       "    </tr>\n",
       "    <tr>\n",
       "      <th>$schema</th>\n",
       "      <td>https://aka.ms/terminal-profiles-schema</td>\n",
       "    </tr>\n",
       "    <tr>\n",
       "      <th>actions</th>\n",
       "      <td>[{'command': {'action': 'copy', 'singleLine': ...</td>\n",
       "    </tr>\n",
       "    <tr>\n",
       "      <th>copyFormatting</th>\n",
       "      <td>none</td>\n",
       "    </tr>\n",
       "    <tr>\n",
       "      <th>copyOnSelect</th>\n",
       "      <td>False</td>\n",
       "    </tr>\n",
       "    <tr>\n",
       "      <th>defaultProfile</th>\n",
       "      <td>{61c54bbd-c2c6-5271-96e7-009a87ff44bf}</td>\n",
       "    </tr>\n",
       "    <tr>\n",
       "      <th>profiles</th>\n",
       "      <td>{'defaults': {}, 'list': [{'guid': '{61c54bbd-...</td>\n",
       "    </tr>\n",
       "    <tr>\n",
       "      <th>schemes</th>\n",
       "      <td>[{'background': '#0C0C0C', 'black': '#0C0C0C',...</td>\n",
       "    </tr>\n",
       "  </tbody>\n",
       "</table>\n",
       "</div>"
      ],
      "text/plain": [
       "                                                                0\n",
       "$help                       https://aka.ms/terminal-documentation\n",
       "$schema                   https://aka.ms/terminal-profiles-schema\n",
       "actions         [{'command': {'action': 'copy', 'singleLine': ...\n",
       "copyFormatting                                               none\n",
       "copyOnSelect                                                False\n",
       "defaultProfile             {61c54bbd-c2c6-5271-96e7-009a87ff44bf}\n",
       "profiles        {'defaults': {}, 'list': [{'guid': '{61c54bbd-...\n",
       "schemes         [{'background': '#0C0C0C', 'black': '#0C0C0C',..."
      ]
     },
     "execution_count": 14,
     "metadata": {},
     "output_type": "execute_result"
    }
   ],
   "source": [
    "# !pip install pandas\n",
    "import pandas as pd\n",
    "pd.read_json(\"c:\\\\Users\\\\shiv\\\\Desktop\\\\settings.json\",orient='index')"
   ]
  }
 ],
 "metadata": {
  "kernelspec": {
   "display_name": "Python 3.9.12 ('base')",
   "language": "python",
   "name": "python3"
  },
  "language_info": {
   "codemirror_mode": {
    "name": "ipython",
    "version": 3
   },
   "file_extension": ".py",
   "mimetype": "text/x-python",
   "name": "python",
   "nbconvert_exporter": "python",
   "pygments_lexer": "ipython3",
   "version": "3.9.12"
  },
  "orig_nbformat": 4,
  "vscode": {
   "interpreter": {
    "hash": "571701c2bdba5e92e6f9bcbefe14ea88daa7da277671e3add18594b7c15b2278"
   }
  }
 },
 "nbformat": 4,
 "nbformat_minor": 2
}
